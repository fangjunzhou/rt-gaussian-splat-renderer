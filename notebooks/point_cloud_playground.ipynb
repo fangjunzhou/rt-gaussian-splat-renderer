{
 "cells": [
  {
   "cell_type": "code",
   "execution_count": 1,
   "id": "cfe964b8-610b-4a29-b1e7-31db2925f0e5",
   "metadata": {},
   "outputs": [],
   "source": [
    "import numpy as np\n",
    "import pyvista as pv\n",
    "from pyntcloud import PyntCloud"
   ]
  },
  {
   "cell_type": "markdown",
   "id": "8cb88df7-824e-4b07-b438-5f0265614f3a",
   "metadata": {},
   "source": [
    "# Plot Point Cloud"
   ]
  },
  {
   "cell_type": "code",
   "execution_count": 2,
   "id": "eb4e6ee4-f0cc-47b8-8230-3e662509abef",
   "metadata": {},
   "outputs": [
    {
     "data": {
      "text/plain": [
       "PyntCloud\n",
       "148916 points with 59 scalar fields\n",
       "0 faces in mesh\n",
       "0 kdtrees\n",
       "0 voxelgrids\n",
       "Centroid: -0.24005822837352753, -0.1545407623052597, -0.17738580703735352\n",
       "Other attributes:\n",
       "\t comments: <class 'list'>"
      ]
     },
     "execution_count": 2,
     "metadata": {},
     "output_type": "execute_result"
    }
   ],
   "source": [
    "path = \"../resources/truck/truck.ply\"\n",
    "cloud = PyntCloud.from_file(path)\n",
    "cloud"
   ]
  },
  {
   "cell_type": "code",
   "execution_count": 3,
   "id": "dbcfc810-4f16-42ff-aa0e-2d54c9a16a78",
   "metadata": {},
   "outputs": [
    {
     "data": {
      "text/html": [
       "<div>\n",
       "<style scoped>\n",
       "    .dataframe tbody tr th:only-of-type {\n",
       "        vertical-align: middle;\n",
       "    }\n",
       "\n",
       "    .dataframe tbody tr th {\n",
       "        vertical-align: top;\n",
       "    }\n",
       "\n",
       "    .dataframe thead th {\n",
       "        text-align: right;\n",
       "    }\n",
       "</style>\n",
       "<table border=\"1\" class=\"dataframe\">\n",
       "  <thead>\n",
       "    <tr style=\"text-align: right;\">\n",
       "      <th></th>\n",
       "      <th>x</th>\n",
       "      <th>y</th>\n",
       "      <th>z</th>\n",
       "      <th>nx</th>\n",
       "      <th>ny</th>\n",
       "      <th>nz</th>\n",
       "      <th>f_dc_0</th>\n",
       "      <th>f_dc_1</th>\n",
       "      <th>f_dc_2</th>\n",
       "      <th>f_rest_0</th>\n",
       "      <th>...</th>\n",
       "      <th>f_rest_43</th>\n",
       "      <th>f_rest_44</th>\n",
       "      <th>opacity</th>\n",
       "      <th>scale_0</th>\n",
       "      <th>scale_1</th>\n",
       "      <th>scale_2</th>\n",
       "      <th>rot_0</th>\n",
       "      <th>rot_1</th>\n",
       "      <th>rot_2</th>\n",
       "      <th>rot_3</th>\n",
       "    </tr>\n",
       "  </thead>\n",
       "  <tbody>\n",
       "    <tr>\n",
       "      <th>0</th>\n",
       "      <td>-0.073468</td>\n",
       "      <td>-0.055002</td>\n",
       "      <td>0.209716</td>\n",
       "      <td>0.0</td>\n",
       "      <td>0.0</td>\n",
       "      <td>0.0</td>\n",
       "      <td>-0.438954</td>\n",
       "      <td>-0.416286</td>\n",
       "      <td>-0.050231</td>\n",
       "      <td>-0.004678</td>\n",
       "      <td>...</td>\n",
       "      <td>0.0</td>\n",
       "      <td>0.0</td>\n",
       "      <td>0.117740</td>\n",
       "      <td>-5.921904</td>\n",
       "      <td>-5.450201</td>\n",
       "      <td>-6.019936</td>\n",
       "      <td>-0.034022</td>\n",
       "      <td>-0.773957</td>\n",
       "      <td>0.594746</td>\n",
       "      <td>0.275766</td>\n",
       "    </tr>\n",
       "    <tr>\n",
       "      <th>1</th>\n",
       "      <td>-0.115345</td>\n",
       "      <td>-0.064272</td>\n",
       "      <td>-0.048094</td>\n",
       "      <td>0.0</td>\n",
       "      <td>0.0</td>\n",
       "      <td>0.0</td>\n",
       "      <td>-0.774287</td>\n",
       "      <td>-1.075040</td>\n",
       "      <td>-0.938762</td>\n",
       "      <td>-0.001056</td>\n",
       "      <td>...</td>\n",
       "      <td>0.0</td>\n",
       "      <td>0.0</td>\n",
       "      <td>-1.563219</td>\n",
       "      <td>-5.823102</td>\n",
       "      <td>-6.469590</td>\n",
       "      <td>-6.216087</td>\n",
       "      <td>0.047847</td>\n",
       "      <td>-0.096181</td>\n",
       "      <td>-0.789820</td>\n",
       "      <td>-0.601719</td>\n",
       "    </tr>\n",
       "    <tr>\n",
       "      <th>2</th>\n",
       "      <td>-0.209736</td>\n",
       "      <td>0.055368</td>\n",
       "      <td>-0.059717</td>\n",
       "      <td>0.0</td>\n",
       "      <td>0.0</td>\n",
       "      <td>0.0</td>\n",
       "      <td>-0.061601</td>\n",
       "      <td>0.783367</td>\n",
       "      <td>1.235496</td>\n",
       "      <td>0.006830</td>\n",
       "      <td>...</td>\n",
       "      <td>0.0</td>\n",
       "      <td>0.0</td>\n",
       "      <td>2.719438</td>\n",
       "      <td>-5.963360</td>\n",
       "      <td>-5.793604</td>\n",
       "      <td>-6.067107</td>\n",
       "      <td>0.584646</td>\n",
       "      <td>-0.359828</td>\n",
       "      <td>-0.495390</td>\n",
       "      <td>-0.441447</td>\n",
       "    </tr>\n",
       "    <tr>\n",
       "      <th>3</th>\n",
       "      <td>-0.128864</td>\n",
       "      <td>0.168987</td>\n",
       "      <td>-0.053903</td>\n",
       "      <td>0.0</td>\n",
       "      <td>0.0</td>\n",
       "      <td>0.0</td>\n",
       "      <td>-1.087155</td>\n",
       "      <td>-1.305378</td>\n",
       "      <td>-1.278752</td>\n",
       "      <td>-0.006610</td>\n",
       "      <td>...</td>\n",
       "      <td>0.0</td>\n",
       "      <td>0.0</td>\n",
       "      <td>-2.821409</td>\n",
       "      <td>-6.076356</td>\n",
       "      <td>-6.191196</td>\n",
       "      <td>-6.615569</td>\n",
       "      <td>-0.861740</td>\n",
       "      <td>-0.439355</td>\n",
       "      <td>-0.153542</td>\n",
       "      <td>-0.177209</td>\n",
       "    </tr>\n",
       "    <tr>\n",
       "      <th>4</th>\n",
       "      <td>-0.220259</td>\n",
       "      <td>-0.048003</td>\n",
       "      <td>-0.047050</td>\n",
       "      <td>0.0</td>\n",
       "      <td>0.0</td>\n",
       "      <td>0.0</td>\n",
       "      <td>0.278847</td>\n",
       "      <td>1.164358</td>\n",
       "      <td>0.851507</td>\n",
       "      <td>-0.006529</td>\n",
       "      <td>...</td>\n",
       "      <td>0.0</td>\n",
       "      <td>0.0</td>\n",
       "      <td>1.949421</td>\n",
       "      <td>-5.667932</td>\n",
       "      <td>-6.107085</td>\n",
       "      <td>-6.411565</td>\n",
       "      <td>0.319352</td>\n",
       "      <td>-0.067316</td>\n",
       "      <td>0.147360</td>\n",
       "      <td>0.966949</td>\n",
       "    </tr>\n",
       "  </tbody>\n",
       "</table>\n",
       "<p>5 rows × 62 columns</p>\n",
       "</div>"
      ],
      "text/plain": [
       "          x         y         z   nx   ny   nz    f_dc_0    f_dc_1    f_dc_2  \\\n",
       "0 -0.073468 -0.055002  0.209716  0.0  0.0  0.0 -0.438954 -0.416286 -0.050231   \n",
       "1 -0.115345 -0.064272 -0.048094  0.0  0.0  0.0 -0.774287 -1.075040 -0.938762   \n",
       "2 -0.209736  0.055368 -0.059717  0.0  0.0  0.0 -0.061601  0.783367  1.235496   \n",
       "3 -0.128864  0.168987 -0.053903  0.0  0.0  0.0 -1.087155 -1.305378 -1.278752   \n",
       "4 -0.220259 -0.048003 -0.047050  0.0  0.0  0.0  0.278847  1.164358  0.851507   \n",
       "\n",
       "   f_rest_0  ...  f_rest_43  f_rest_44   opacity   scale_0   scale_1  \\\n",
       "0 -0.004678  ...        0.0        0.0  0.117740 -5.921904 -5.450201   \n",
       "1 -0.001056  ...        0.0        0.0 -1.563219 -5.823102 -6.469590   \n",
       "2  0.006830  ...        0.0        0.0  2.719438 -5.963360 -5.793604   \n",
       "3 -0.006610  ...        0.0        0.0 -2.821409 -6.076356 -6.191196   \n",
       "4 -0.006529  ...        0.0        0.0  1.949421 -5.667932 -6.107085   \n",
       "\n",
       "    scale_2     rot_0     rot_1     rot_2     rot_3  \n",
       "0 -6.019936 -0.034022 -0.773957  0.594746  0.275766  \n",
       "1 -6.216087  0.047847 -0.096181 -0.789820 -0.601719  \n",
       "2 -6.067107  0.584646 -0.359828 -0.495390 -0.441447  \n",
       "3 -6.615569 -0.861740 -0.439355 -0.153542 -0.177209  \n",
       "4 -6.411565  0.319352 -0.067316  0.147360  0.966949  \n",
       "\n",
       "[5 rows x 62 columns]"
      ]
     },
     "execution_count": 3,
     "metadata": {},
     "output_type": "execute_result"
    }
   ],
   "source": [
    "points = cloud.points\n",
    "points.head()"
   ]
  },
  {
   "cell_type": "code",
   "execution_count": 4,
   "id": "95b123ea-cffb-4565-b143-d6c930facdeb",
   "metadata": {},
   "outputs": [
    {
     "data": {
      "application/vnd.jupyter.widget-view+json": {
       "model_id": "10f4d261c7434cdbb2a7582889b9ee87",
       "version_major": 2,
       "version_minor": 0
      },
      "text/plain": [
       "Widget(value='<iframe src=\"http://localhost:50649/index.html?ui=P_0x1405ae7e0_0&reconnect=auto\" class=\"pyvista…"
      ]
     },
     "metadata": {},
     "output_type": "display_data"
    }
   ],
   "source": [
    "positions = points[[\"x\", \"y\", \"z\"]].to_numpy()\n",
    "colors = points[[\"f_dc_0\", \"f_dc_1\", \"f_dc_2\"]].to_numpy()\n",
    "colors = 1 / (1 + np.exp(-colors))\n",
    "\n",
    "pv.plot(positions, scalars=colors, rgba=True)"
   ]
  },
  {
   "cell_type": "markdown",
   "id": "17da3445-2381-4bde-aefc-98ecfefd1abe",
   "metadata": {},
   "source": [
    "# Generate Test Data"
   ]
  },
  {
   "cell_type": "code",
   "execution_count": 5,
   "id": "0631eaf8-9197-4eaf-8b5d-a375024ad547",
   "metadata": {},
   "outputs": [
    {
     "data": {
      "application/vnd.jupyter.widget-view+json": {
       "model_id": "abf8c2c67d044ed192c987fb131e544a",
       "version_major": 2,
       "version_minor": 0
      },
      "text/plain": [
       "Widget(value='<iframe src=\"http://localhost:50649/index.html?ui=P_0x1739fcb30_1&reconnect=auto\" class=\"pyvista…"
      ]
     },
     "metadata": {},
     "output_type": "display_data"
    }
   ],
   "source": [
    "cloud_test = PyntCloud(points.sample(16, ignore_index=True))\n",
    "points_test = cloud_test.points\n",
    "positions_test = points_test[[\"x\", \"y\", \"z\"]].to_numpy()\n",
    "colors_test = points_test[[\"f_dc_0\", \"f_dc_1\", \"f_dc_2\"]].to_numpy()\n",
    "colors_test = 1 / (1 + np.exp(-colors_test))\n",
    "\n",
    "pv.plot(positions_test, scalars=colors_test, rgba=True, point_size=10)"
   ]
  },
  {
   "cell_type": "code",
   "execution_count": 6,
   "id": "0c96ad74-d26a-49ea-aeb8-4bee53d65d78",
   "metadata": {},
   "outputs": [],
   "source": [
    "cloud_test.to_file(\"test.ply\")"
   ]
  }
 ],
 "metadata": {
  "kernelspec": {
   "display_name": "Python 3 (ipykernel)",
   "language": "python",
   "name": "python3"
  },
  "language_info": {
   "codemirror_mode": {
    "name": "ipython",
    "version": 3
   },
   "file_extension": ".py",
   "mimetype": "text/x-python",
   "name": "python",
   "nbconvert_exporter": "python",
   "pygments_lexer": "ipython3",
   "version": "3.12.9"
  }
 },
 "nbformat": 4,
 "nbformat_minor": 5
}
