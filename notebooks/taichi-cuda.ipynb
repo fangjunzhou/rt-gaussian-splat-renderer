{
 "cells": [
  {
   "cell_type": "code",
   "execution_count": 1,
   "id": "a8046ee9-403b-434b-b8f3-719d1985eca7",
   "metadata": {},
   "outputs": [
    {
     "name": "stdout",
     "output_type": "stream",
     "text": [
      "[Taichi] version 1.7.3, llvm 15.0.4, commit 5ec301be, linux, python 3.12.9\n"
     ]
    },
    {
     "name": "stderr",
     "output_type": "stream",
     "text": [
      "[I 04/25/25 22:24:16.694 21149] [shell.py:_shell_pop_print@23] Graphical python shell detected, using wrapped sys.stdout\n"
     ]
    }
   ],
   "source": [
    "import taichi as ti"
   ]
  },
  {
   "cell_type": "code",
   "execution_count": 2,
   "id": "982ef2d0-b4d3-4a3b-bb0b-d99b6724a7b8",
   "metadata": {},
   "outputs": [
    {
     "name": "stdout",
     "output_type": "stream",
     "text": [
      "[Taichi] Starting on arch=x64\n"
     ]
    },
    {
     "name": "stderr",
     "output_type": "stream",
     "text": [
      "[W 04/25/25 22:24:18.617 21149] [cuda_driver.cpp:load_lib@36] libcuda.so lib not found.\n",
      "[W 04/25/25 22:24:18.617 21149] [misc.py:adaptive_arch_select@758] Arch=[<Arch.cuda: 3>] is not supported, falling back to CPU\n"
     ]
    }
   ],
   "source": [
    "ti.init(arch=ti.cuda)"
   ]
  }
 ],
 "metadata": {
  "kernelspec": {
   "display_name": "Python 3 (ipykernel)",
   "language": "python",
   "name": "python3"
  },
  "language_info": {
   "codemirror_mode": {
    "name": "ipython",
    "version": 3
   },
   "file_extension": ".py",
   "mimetype": "text/x-python",
   "name": "python",
   "nbconvert_exporter": "python",
   "pygments_lexer": "ipython3",
   "version": "3.12.9"
  }
 },
 "nbformat": 4,
 "nbformat_minor": 5
}
